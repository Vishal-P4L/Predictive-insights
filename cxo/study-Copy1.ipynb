{
 "cells": [
  {
   "cell_type": "code",
   "execution_count": 1,
   "id": "713ec892-dd1e-456c-8124-18b69040e2db",
   "metadata": {},
   "outputs": [],
   "source": [
    "import math\n",
    "import datetime\n",
    "import warnings\n",
    "import numpy as np\n",
    "import pandas as pd\n",
    "import xgboost as xgb\n",
    "import seaborn as sns\n",
    "from tabulate import tabulate\n",
    "import matplotlib.pyplot as plt\n",
    "warnings.filterwarnings('ignore')\n",
    "from sklearn.metrics import r2_score\n",
    "from sklearn.ensemble import AdaBoostRegressor\n",
    "from sklearn.tree import DecisionTreeRegressor\n",
    "from sklearn.preprocessing import MinMaxScaler\n",
    "from sklearn.preprocessing import LabelEncoder\n",
    "from tensorflow.keras.models import Sequential\n",
    "from tensorflow.keras.layers import LSTM, Dense\n",
    "from sklearn.ensemble import RandomForestRegressor\n",
    "from sklearn.model_selection import train_test_split\n",
    "from sklearn.metrics import mean_absolute_error, mean_squared_error"
   ]
  },
  {
   "cell_type": "code",
   "execution_count": 2,
   "id": "1f88f943-f422-4322-8300-312ac168319e",
   "metadata": {},
   "outputs": [
    {
     "data": {
      "text/html": [
       "<div>\n",
       "<style scoped>\n",
       "    .dataframe tbody tr th:only-of-type {\n",
       "        vertical-align: middle;\n",
       "    }\n",
       "\n",
       "    .dataframe tbody tr th {\n",
       "        vertical-align: top;\n",
       "    }\n",
       "\n",
       "    .dataframe thead th {\n",
       "        text-align: right;\n",
       "    }\n",
       "</style>\n",
       "<table border=\"1\" class=\"dataframe\">\n",
       "  <thead>\n",
       "    <tr style=\"text-align: right;\">\n",
       "      <th></th>\n",
       "      <th>Study_number</th>\n",
       "      <th>Therapeutic_Area</th>\n",
       "      <th>planned_start_date</th>\n",
       "      <th>Study Actual End Date</th>\n",
       "      <th>Study Actual Start Date</th>\n",
       "      <th>planned_end_date</th>\n",
       "      <th>Study Enrolled Subjects</th>\n",
       "      <th>Study Planned Subject</th>\n",
       "      <th>Study Drop-Outs</th>\n",
       "    </tr>\n",
       "  </thead>\n",
       "  <tbody>\n",
       "    <tr>\n",
       "      <th>0</th>\n",
       "      <td>AJ_4567</td>\n",
       "      <td>Bariatrics</td>\n",
       "      <td>12/30/2005</td>\n",
       "      <td>7/13/2014</td>\n",
       "      <td>2/14/2006</td>\n",
       "      <td>11/4/2012</td>\n",
       "      <td>7801</td>\n",
       "      <td>8232</td>\n",
       "      <td>431</td>\n",
       "    </tr>\n",
       "    <tr>\n",
       "      <th>1</th>\n",
       "      <td>AT_2687</td>\n",
       "      <td>Addiction Medicine</td>\n",
       "      <td>10/15/2000</td>\n",
       "      <td>4/22/2008</td>\n",
       "      <td>10/19/2000</td>\n",
       "      <td>12/2/2006</td>\n",
       "      <td>6395</td>\n",
       "      <td>6665</td>\n",
       "      <td>270</td>\n",
       "    </tr>\n",
       "    <tr>\n",
       "      <th>2</th>\n",
       "      <td>BN_5333</td>\n",
       "      <td>Infectious Disease</td>\n",
       "      <td>4/24/2012</td>\n",
       "      <td>11/22/2020</td>\n",
       "      <td>8/27/2012</td>\n",
       "      <td>7/31/2019</td>\n",
       "      <td>6478</td>\n",
       "      <td>6877</td>\n",
       "      <td>399</td>\n",
       "    </tr>\n",
       "    <tr>\n",
       "      <th>3</th>\n",
       "      <td>CU_8814</td>\n",
       "      <td>Pulmonary Medicine</td>\n",
       "      <td>3/10/2014</td>\n",
       "      <td>1/4/2021</td>\n",
       "      <td>7/13/2014</td>\n",
       "      <td>6/30/2019</td>\n",
       "      <td>4929</td>\n",
       "      <td>5196</td>\n",
       "      <td>267</td>\n",
       "    </tr>\n",
       "    <tr>\n",
       "      <th>4</th>\n",
       "      <td>DP_5759</td>\n",
       "      <td>Pulmonary Medicine</td>\n",
       "      <td>9/13/2010</td>\n",
       "      <td>4/11/2018</td>\n",
       "      <td>10/31/2010</td>\n",
       "      <td>9/14/2016</td>\n",
       "      <td>7559</td>\n",
       "      <td>7991</td>\n",
       "      <td>432</td>\n",
       "    </tr>\n",
       "  </tbody>\n",
       "</table>\n",
       "</div>"
      ],
      "text/plain": [
       "  Study_number    Therapeutic_Area planned_start_date Study Actual End Date  \\\n",
       "0      AJ_4567          Bariatrics         12/30/2005             7/13/2014   \n",
       "1      AT_2687  Addiction Medicine         10/15/2000             4/22/2008   \n",
       "2      BN_5333  Infectious Disease          4/24/2012            11/22/2020   \n",
       "3      CU_8814  Pulmonary Medicine          3/10/2014              1/4/2021   \n",
       "4      DP_5759  Pulmonary Medicine          9/13/2010             4/11/2018   \n",
       "\n",
       "  Study Actual Start Date planned_end_date  Study Enrolled Subjects  \\\n",
       "0               2/14/2006        11/4/2012                     7801   \n",
       "1              10/19/2000        12/2/2006                     6395   \n",
       "2               8/27/2012        7/31/2019                     6478   \n",
       "3               7/13/2014        6/30/2019                     4929   \n",
       "4              10/31/2010        9/14/2016                     7559   \n",
       "\n",
       "   Study Planned Subject  Study Drop-Outs  \n",
       "0                   8232              431  \n",
       "1                   6665              270  \n",
       "2                   6877              399  \n",
       "3                   5196              267  \n",
       "4                   7991              432  "
      ]
     },
     "execution_count": 2,
     "metadata": {},
     "output_type": "execute_result"
    }
   ],
   "source": [
    "df = pd.read_csv(r'C:\\Users\\ws-1\\Downloads\\Study.csv')\n",
    "df.head()"
   ]
  },
  {
   "cell_type": "code",
   "execution_count": 3,
   "id": "6206eacd-f6b4-489d-a62d-5dce1ed2ec6a",
   "metadata": {},
   "outputs": [
    {
     "name": "stdout",
     "output_type": "stream",
     "text": [
      "<class 'pandas.core.frame.DataFrame'>\n",
      "RangeIndex: 50 entries, 0 to 49\n",
      "Data columns (total 9 columns):\n",
      " #   Column                   Non-Null Count  Dtype \n",
      "---  ------                   --------------  ----- \n",
      " 0   Study_number             50 non-null     object\n",
      " 1   Therapeutic_Area         50 non-null     object\n",
      " 2   planned_start_date       50 non-null     object\n",
      " 3   Study Actual End Date    50 non-null     object\n",
      " 4   Study Actual Start Date  50 non-null     object\n",
      " 5   planned_end_date         50 non-null     object\n",
      " 6   Study Enrolled Subjects  50 non-null     int64 \n",
      " 7   Study Planned Subject    50 non-null     int64 \n",
      " 8   Study Drop-Outs          50 non-null     int64 \n",
      "dtypes: int64(3), object(6)\n",
      "memory usage: 3.6+ KB\n"
     ]
    }
   ],
   "source": [
    "df.info()"
   ]
  },
  {
   "cell_type": "code",
   "execution_count": 4,
   "id": "ccc3a7a6-6cf8-4a02-af44-8818a2e40206",
   "metadata": {},
   "outputs": [
    {
     "name": "stdout",
     "output_type": "stream",
     "text": [
      "<class 'pandas.core.frame.DataFrame'>\n",
      "RangeIndex: 50 entries, 0 to 49\n",
      "Data columns (total 9 columns):\n",
      " #   Column                   Non-Null Count  Dtype         \n",
      "---  ------                   --------------  -----         \n",
      " 0   Study_number             50 non-null     object        \n",
      " 1   Therapeutic_Area         50 non-null     object        \n",
      " 2   planned_start_date       50 non-null     datetime64[ns]\n",
      " 3   Study Actual End Date    50 non-null     datetime64[ns]\n",
      " 4   Study Actual Start Date  50 non-null     datetime64[ns]\n",
      " 5   planned_end_date         50 non-null     datetime64[ns]\n",
      " 6   Study Enrolled Subjects  50 non-null     int64         \n",
      " 7   Study Planned Subject    50 non-null     int64         \n",
      " 8   Study Drop-Outs          50 non-null     int64         \n",
      "dtypes: datetime64[ns](4), int64(3), object(2)\n",
      "memory usage: 3.6+ KB\n"
     ]
    }
   ],
   "source": [
    "df['planned_start_date'] = pd.to_datetime(df['planned_start_date'],errors='coerce')\n",
    "df['planned_end_date'] = pd.to_datetime(df['planned_end_date'],errors='coerce')\n",
    "df['Study Actual Start Date'] = pd.to_datetime(df['Study Actual Start Date'],errors='coerce')\n",
    "df['Study Actual End Date'] = pd.to_datetime(df['Study Actual End Date'],errors='coerce')\n",
    "df.info()"
   ]
  },
  {
   "cell_type": "code",
   "execution_count": 5,
   "id": "0bfe6300-b605-4473-ad17-ee0e0e5361b7",
   "metadata": {},
   "outputs": [
    {
     "data": {
      "text/html": [
       "<div>\n",
       "<style scoped>\n",
       "    .dataframe tbody tr th:only-of-type {\n",
       "        vertical-align: middle;\n",
       "    }\n",
       "\n",
       "    .dataframe tbody tr th {\n",
       "        vertical-align: top;\n",
       "    }\n",
       "\n",
       "    .dataframe thead th {\n",
       "        text-align: right;\n",
       "    }\n",
       "</style>\n",
       "<table border=\"1\" class=\"dataframe\">\n",
       "  <thead>\n",
       "    <tr style=\"text-align: right;\">\n",
       "      <th></th>\n",
       "      <th>planned_start_date</th>\n",
       "      <th>Study Actual End Date</th>\n",
       "      <th>Study Actual Start Date</th>\n",
       "      <th>planned_end_date</th>\n",
       "      <th>Study Enrolled Subjects</th>\n",
       "      <th>Study Planned Subject</th>\n",
       "      <th>Study Drop-Outs</th>\n",
       "    </tr>\n",
       "  </thead>\n",
       "  <tbody>\n",
       "    <tr>\n",
       "      <th>0</th>\n",
       "      <td>2005-12-30</td>\n",
       "      <td>2014-07-13</td>\n",
       "      <td>2006-02-14</td>\n",
       "      <td>2012-11-04</td>\n",
       "      <td>7801</td>\n",
       "      <td>8232</td>\n",
       "      <td>431</td>\n",
       "    </tr>\n",
       "    <tr>\n",
       "      <th>1</th>\n",
       "      <td>2000-10-15</td>\n",
       "      <td>2008-04-22</td>\n",
       "      <td>2000-10-19</td>\n",
       "      <td>2006-12-02</td>\n",
       "      <td>6395</td>\n",
       "      <td>6665</td>\n",
       "      <td>270</td>\n",
       "    </tr>\n",
       "    <tr>\n",
       "      <th>2</th>\n",
       "      <td>2012-04-24</td>\n",
       "      <td>2020-11-22</td>\n",
       "      <td>2012-08-27</td>\n",
       "      <td>2019-07-31</td>\n",
       "      <td>6478</td>\n",
       "      <td>6877</td>\n",
       "      <td>399</td>\n",
       "    </tr>\n",
       "    <tr>\n",
       "      <th>3</th>\n",
       "      <td>2014-03-10</td>\n",
       "      <td>2021-01-04</td>\n",
       "      <td>2014-07-13</td>\n",
       "      <td>2019-06-30</td>\n",
       "      <td>4929</td>\n",
       "      <td>5196</td>\n",
       "      <td>267</td>\n",
       "    </tr>\n",
       "    <tr>\n",
       "      <th>4</th>\n",
       "      <td>2010-09-13</td>\n",
       "      <td>2018-04-11</td>\n",
       "      <td>2010-10-31</td>\n",
       "      <td>2016-09-14</td>\n",
       "      <td>7559</td>\n",
       "      <td>7991</td>\n",
       "      <td>432</td>\n",
       "    </tr>\n",
       "  </tbody>\n",
       "</table>\n",
       "</div>"
      ],
      "text/plain": [
       "  planned_start_date Study Actual End Date Study Actual Start Date  \\\n",
       "0         2005-12-30            2014-07-13              2006-02-14   \n",
       "1         2000-10-15            2008-04-22              2000-10-19   \n",
       "2         2012-04-24            2020-11-22              2012-08-27   \n",
       "3         2014-03-10            2021-01-04              2014-07-13   \n",
       "4         2010-09-13            2018-04-11              2010-10-31   \n",
       "\n",
       "  planned_end_date  Study Enrolled Subjects  Study Planned Subject  \\\n",
       "0       2012-11-04                     7801                   8232   \n",
       "1       2006-12-02                     6395                   6665   \n",
       "2       2019-07-31                     6478                   6877   \n",
       "3       2019-06-30                     4929                   5196   \n",
       "4       2016-09-14                     7559                   7991   \n",
       "\n",
       "   Study Drop-Outs  \n",
       "0              431  \n",
       "1              270  \n",
       "2              399  \n",
       "3              267  \n",
       "4              432  "
      ]
     },
     "execution_count": 5,
     "metadata": {},
     "output_type": "execute_result"
    }
   ],
   "source": [
    "df=df.drop(['Study_number','Therapeutic_Area',  ],axis=1)\n",
    "df.head()"
   ]
  },
  {
   "cell_type": "code",
   "execution_count": 6,
   "id": "0e9d50a6-7b16-4fc1-a3f7-c5b01851108d",
   "metadata": {},
   "outputs": [
    {
     "name": "stdout",
     "output_type": "stream",
     "text": [
      "   Study Enrolled Subjects  Study Planned Subject  Study Drop-Outs  \\\n",
      "0                     7801                   8232              431   \n",
      "1                     6395                   6665              270   \n",
      "2                     6478                   6877              399   \n",
      "3                     4929                   5196              267   \n",
      "4                     7559                   7991              432   \n",
      "\n",
      "   planned_start_date_num  planned_end_date_num  Study Actual Start Date_num  \\\n",
      "0                  732310                734811                       732356   \n",
      "1                  730408                732647                       730412   \n",
      "2                  734617                737271                       734742   \n",
      "3                  735302                737240                       735427   \n",
      "4                  734028                736221                       734076   \n",
      "\n",
      "   Study Actual End Date_num  \n",
      "0                     735427  \n",
      "1                     733154  \n",
      "2                     737751  \n",
      "3                     737794  \n",
      "4                     736795  \n"
     ]
    }
   ],
   "source": [
    "date_columns = ['planned_start_date', 'planned_end_date', 'Study Actual Start Date', 'Study Actual End Date']\n",
    "\n",
    "# Convert string dates to datetime objects\n",
    "for col in date_columns:\n",
    "    df[col] = pd.to_datetime(df[col], errors='coerce')  # Convert to datetime, handle errors gracefully\n",
    "\n",
    "# Define the function to convert dates to ordinals\n",
    "def date_to_ordinal(date):\n",
    "    return date.toordinal() if pd.notnull(date) else np.nan\n",
    "\n",
    "# Apply the date_to_ordinal function to each date column\n",
    "for col in date_columns:\n",
    "    df[f'{col}_num'] = df[col].map(date_to_ordinal)\n",
    "\n",
    "# Optionally, drop the original datetime columns if not needed\n",
    "df = df.drop(columns=date_columns)\n",
    "\n",
    "# Display the resulting DataFrame\n",
    "print(df.head())"
   ]
  },
  {
   "cell_type": "code",
   "execution_count": 7,
   "id": "500a45d6-c5cc-4dce-84d8-9e8992976a5d",
   "metadata": {},
   "outputs": [
    {
     "name": "stdout",
     "output_type": "stream",
     "text": [
      "<class 'pandas.core.frame.DataFrame'>\n",
      "RangeIndex: 50 entries, 0 to 49\n",
      "Data columns (total 7 columns):\n",
      " #   Column                       Non-Null Count  Dtype\n",
      "---  ------                       --------------  -----\n",
      " 0   Study Enrolled Subjects      50 non-null     int64\n",
      " 1   Study Planned Subject        50 non-null     int64\n",
      " 2   Study Drop-Outs              50 non-null     int64\n",
      " 3   planned_start_date_num       50 non-null     int64\n",
      " 4   planned_end_date_num         50 non-null     int64\n",
      " 5   Study Actual Start Date_num  50 non-null     int64\n",
      " 6   Study Actual End Date_num    50 non-null     int64\n",
      "dtypes: int64(7)\n",
      "memory usage: 2.9 KB\n"
     ]
    }
   ],
   "source": [
    "df.info()"
   ]
  },
  {
   "cell_type": "code",
   "execution_count": 8,
   "id": "0a152241-1538-4941-928c-77ec3338c7eb",
   "metadata": {},
   "outputs": [],
   "source": [
    "# Define feature and target columns\n",
    "X = df[['planned_end_date_num', 'planned_start_date_num', 'Study Actual Start Date_num','Study Enrolled Subjects', 'Study Planned Subject','Study Drop-Outs']]\n",
    "y = df['Study Actual End Date_num']"
   ]
  },
  {
   "cell_type": "code",
   "execution_count": 9,
   "id": "2d38eea5-60a5-45f0-b893-178101a854cb",
   "metadata": {},
   "outputs": [],
   "source": [
    "# Perform the train-test split\n",
    "X_train, X_test, y_train, y_test = train_test_split(X, y, test_size=0.20, random_state=42)"
   ]
  },
  {
   "cell_type": "code",
   "execution_count": 10,
   "id": "e9129480-b1c0-414c-a4e8-e233ca38a6ba",
   "metadata": {},
   "outputs": [
    {
     "name": "stdout",
     "output_type": "stream",
     "text": [
      "X_train shape: (40, 6)\n",
      "X_test shape: (10, 6)\n",
      "y_train shape: (40,)\n",
      "y_test shape: (10,)\n"
     ]
    }
   ],
   "source": [
    "# Output the shapes of the resulting splits\n",
    "print(f\"X_train shape: {X_train.shape}\")\n",
    "print(f\"X_test shape: {X_test.shape}\")\n",
    "print(f\"y_train shape: {y_train.shape}\")\n",
    "print(f\"y_test shape: {y_test.shape}\")"
   ]
  },
  {
   "cell_type": "code",
   "execution_count": 11,
   "id": "1a589ce9-cc79-462e-b159-4972ce0a8862",
   "metadata": {},
   "outputs": [
    {
     "name": "stdout",
     "output_type": "stream",
     "text": [
      "Training Set Metrics:\n",
      "Mean Absolute Error (MAE): 0.090625\n",
      "Root Mean Squared Error (RMSE): 0.10643366478704\n",
      "R^2 Score: 0.9999999972353111\n",
      "\n",
      "Test Set Metrics:\n",
      "Mean Absolute Error (MAE): 367.98125\n",
      "Root Mean Squared Error (RMSE): 595.5928240915727\n",
      "R^2 Score: 0.8980497718393218\n"
     ]
    }
   ],
   "source": [
    "import xgboost as xgb\n",
    "from sklearn.metrics import mean_absolute_error, mean_squared_error, r2_score\n",
    "# Initialize the XGBoost Regressor\n",
    "xg_reg = xgb.XGBRegressor(objective='reg:squarederror', random_state=42)\n",
    "\n",
    "# Train the model\n",
    "xg_reg.fit(X_train, y_train)\n",
    "# Predict on the train and test sets\n",
    "y_train_pred = xg_reg.predict(X_train)\n",
    "y_test_pred = xg_reg.predict(X_test)\n",
    "# Calculate metrics for the training set\n",
    "train_mae = mean_absolute_error(y_train, y_train_pred)\n",
    "train_rmse = mean_squared_error(y_train, y_train_pred, squared=False)\n",
    "train_r2 = r2_score(y_train, y_train_pred)\n",
    "\n",
    "# Calculate metrics for the test set\n",
    "test_mae = mean_absolute_error(y_test, y_test_pred)\n",
    "test_rmse = mean_squared_error(y_test, y_test_pred, squared=False)\n",
    "test_r2 = r2_score(y_test, y_test_pred)\n",
    "\n",
    "# Display the results\n",
    "print(\"Training Set Metrics:\")\n",
    "print(f\"Mean Absolute Error (MAE): {train_mae}\")\n",
    "print(f\"Root Mean Squared Error (RMSE): {train_rmse}\")\n",
    "print(f\"R^2 Score: {train_r2}\")\n",
    "\n",
    "print(\"\\nTest Set Metrics:\")\n",
    "print(f\"Mean Absolute Error (MAE): {test_mae}\")\n",
    "print(f\"Root Mean Squared Error (RMSE): {test_rmse}\")\n",
    "print(f\"R^2 Score: {test_r2}\")\n"
   ]
  },
  {
   "cell_type": "code",
   "execution_count": 12,
   "id": "bc0b33f6-f0ca-426e-a59a-58ddca2c2ba9",
   "metadata": {},
   "outputs": [
    {
     "name": "stdout",
     "output_type": "stream",
     "text": [
      "Training Set Metrics:\n",
      "Mean Absolute Error (MAE): 77.97073482073901\n",
      "Root Mean Squared Error (RMSE): 98.04259981635353\n",
      "R^2 Score: 0.9976540547068905\n",
      "\n",
      "Test Set Metrics:\n",
      "Mean Absolute Error (MAE): 380.9621212121216\n",
      "Root Mean Squared Error (RMSE): 618.7117143176503\n",
      "R^2 Score: 0.8899814374348345\n"
     ]
    }
   ],
   "source": [
    "from sklearn.ensemble import AdaBoostRegressor\n",
    "from sklearn.metrics import mean_absolute_error, mean_squared_error, r2_score\n",
    "\n",
    "# Initialize the AdaBoost Regressor\n",
    "ada_reg = AdaBoostRegressor(n_estimators=100, random_state=42)\n",
    "\n",
    "# Train the AdaBoost model\n",
    "ada_reg.fit(X_train, y_train)\n",
    "\n",
    "# Predict on the train and test sets\n",
    "y_train_pred = ada_reg.predict(X_train)\n",
    "y_test_pred = ada_reg.predict(X_test)\n",
    "\n",
    "# Calculate metrics for the training set\n",
    "train_mae = mean_absolute_error(y_train, y_train_pred)\n",
    "train_rmse = mean_squared_error(y_train, y_train_pred, squared=False)\n",
    "train_r2 = r2_score(y_train, y_train_pred)\n",
    "\n",
    "# Calculate metrics for the test set\n",
    "test_mae = mean_absolute_error(y_test, y_test_pred)\n",
    "test_rmse = mean_squared_error(y_test, y_test_pred, squared=False)\n",
    "test_r2 = r2_score(y_test, y_test_pred)\n",
    "\n",
    "# Display the results\n",
    "print(\"Training Set Metrics:\")\n",
    "print(f\"Mean Absolute Error (MAE): {train_mae}\")\n",
    "print(f\"Root Mean Squared Error (RMSE): {train_rmse}\")\n",
    "print(f\"R^2 Score: {train_r2}\")\n",
    "\n",
    "print(\"\\nTest Set Metrics:\")\n",
    "print(f\"Mean Absolute Error (MAE): {test_mae}\")\n",
    "print(f\"Root Mean Squared Error (RMSE): {test_rmse}\")\n",
    "print(f\"R^2 Score: {test_r2}\")\n"
   ]
  },
  {
   "cell_type": "code",
   "execution_count": 13,
   "id": "0ee5adc2-1a4e-45d9-a806-18f18d7037ac",
   "metadata": {},
   "outputs": [
    {
     "name": "stdout",
     "output_type": "stream",
     "text": [
      "Training Set Metrics:\n",
      "Mean Absolute Error (MAE): 92.6077500000014\n",
      "Root Mean Squared Error (RMSE): 115.4729916365706\n",
      "R^2 Score: 0.9967457637593478\n",
      "\n",
      "Test Set Metrics:\n",
      "Mean Absolute Error (MAE): 381.39000000001397\n",
      "Root Mean Squared Error (RMSE): 616.5561559987908\n",
      "R^2 Score: 0.8907466995460294\n"
     ]
    }
   ],
   "source": [
    "from sklearn.ensemble import RandomForestRegressor\n",
    "from sklearn.metrics import mean_absolute_error, mean_squared_error, r2_score\n",
    "\n",
    "# Initialize the Random Forest Regressor\n",
    "rf_reg = RandomForestRegressor(n_estimators=100, random_state=42)\n",
    "\n",
    "# Train the Random Forest model\n",
    "rf_reg.fit(X_train, y_train)\n",
    "\n",
    "# Predict on the train and test sets\n",
    "y_train_pred = rf_reg.predict(X_train)\n",
    "y_test_pred = rf_reg.predict(X_test)\n",
    "\n",
    "# Calculate metrics for the training set\n",
    "train_mae = mean_absolute_error(y_train, y_train_pred)\n",
    "train_rmse = mean_squared_error(y_train, y_train_pred, squared=False)\n",
    "train_r2 = r2_score(y_train, y_train_pred)\n",
    "\n",
    "# Calculate metrics for the test set\n",
    "test_mae = mean_absolute_error(y_test, y_test_pred)\n",
    "test_rmse = mean_squared_error(y_test, y_test_pred, squared=False)\n",
    "test_r2 = r2_score(y_test, y_test_pred)\n",
    "\n",
    "# Display the results\n",
    "print(\"Training Set Metrics:\")\n",
    "print(f\"Mean Absolute Error (MAE): {train_mae}\")\n",
    "print(f\"Root Mean Squared Error (RMSE): {train_rmse}\")\n",
    "print(f\"R^2 Score: {train_r2}\")\n",
    "\n",
    "print(\"\\nTest Set Metrics:\")\n",
    "print(f\"Mean Absolute Error (MAE): {test_mae}\")\n",
    "print(f\"Root Mean Squared Error (RMSE): {test_rmse}\")\n",
    "print(f\"R^2 Score: {test_r2}\")\n"
   ]
  },
  {
   "cell_type": "code",
   "execution_count": 14,
   "id": "2996d2c7-a164-438f-8a4a-ba6067540c64",
   "metadata": {},
   "outputs": [
    {
     "data": {
      "text/plain": [
       "['xgboost_model_study.pkl']"
      ]
     },
     "execution_count": 14,
     "metadata": {},
     "output_type": "execute_result"
    }
   ],
   "source": [
    "import joblib\n",
    "\n",
    "# Save the model\n",
    "joblib.dump(xg_reg, 'xgboost_model_study.pkl')"
   ]
  },
  {
   "cell_type": "code",
   "execution_count": 15,
   "id": "aa0b0659-1b26-4699-9a36-92e6f496876a",
   "metadata": {},
   "outputs": [
    {
     "data": {
      "text/plain": [
       "['random_forest_model.pkl']"
      ]
     },
     "execution_count": 15,
     "metadata": {},
     "output_type": "execute_result"
    }
   ],
   "source": [
    "# Dump the trained model to a file\n",
    "joblib.dump(rf_reg, 'random_forest_model.pkl')"
   ]
  },
  {
   "cell_type": "code",
   "execution_count": 16,
   "id": "62506d63-1495-42bf-85ed-2e377f8dd24f",
   "metadata": {},
   "outputs": [
    {
     "data": {
      "text/plain": [
       "['adaboost_model.pkl']"
      ]
     },
     "execution_count": 16,
     "metadata": {},
     "output_type": "execute_result"
    }
   ],
   "source": [
    "import joblib\n",
    "\n",
    "# Dump the AdaBoost model\n",
    "joblib.dump(ada_reg, 'adaboost_model.pkl')\n"
   ]
  },
  {
   "cell_type": "code",
   "execution_count": 19,
   "id": "572ec8dc-af7b-43be-a9b8-0e64b1c19414",
   "metadata": {},
   "outputs": [
    {
     "name": "stdout",
     "output_type": "stream",
     "text": [
      "Please enter the following details:\n"
     ]
    },
    {
     "name": "stdin",
     "output_type": "stream",
     "text": [
      "Planned End Date (YYYY-MM-DD):  2022-01-08\n",
      "Planned Start Date (YYYY-MM-DD):  2017-06-14\n",
      "Study Actual Start Date (YYYY-MM-DD):  2017-06-14\n",
      "Study Enrolled Subjects:  4550\n",
      "Study Planned Subjects:  4858\n",
      "Study Drop-Outs:  308\n"
     ]
    },
    {
     "name": "stdout",
     "output_type": "stream",
     "text": [
      "\n",
      "Predicted Study Actual End Date (Random Forest): 2024-03-31\n",
      "Predicted Study Actual End Date (XGBoost): 2024-01-01\n",
      "Predicted Study Actual End Date (AdaBoost): 2024-02-05\n"
     ]
    }
   ],
   "source": [
    "import joblib\n",
    "import pandas as pd\n",
    "import numpy as np\n",
    "\n",
    "# Load the trained models\n",
    "rf_reg = joblib.load('random_forest_model.pkl')\n",
    "xg_reg = joblib.load('xgboost_model_study.pkl')\n",
    "ada_reg = joblib.load('adaboost_model.pkl')\n",
    "\n",
    "def date_to_ordinal(date_str):\n",
    "    try:\n",
    "        return pd.to_datetime(date_str).toordinal()\n",
    "    except ValueError:\n",
    "        return np.nan\n",
    "\n",
    "def predict_end_date(planned_end_date, planned_start_date, actual_start_date, enrolled_subjects, planned_subjects, drop_outs, model):\n",
    "    # Convert input dates to ordinal\n",
    "    data = {\n",
    "        'planned_end_date_num': [date_to_ordinal(planned_end_date)],\n",
    "        'planned_start_date_num': [date_to_ordinal(planned_start_date)],\n",
    "        'Study Actual Start Date_num': [date_to_ordinal(actual_start_date)],\n",
    "        'Study Enrolled Subjects': [enrolled_subjects],\n",
    "        'Study Planned Subject': [planned_subjects],\n",
    "        'Study Drop-Outs': [drop_outs]\n",
    "    }\n",
    "    input_df = pd.DataFrame(data)\n",
    "    \n",
    "    # Make prediction\n",
    "    predicted_ordinal = model.predict(input_df)[0]\n",
    "    \n",
    "    # Convert predicted ordinal back to date\n",
    "    predicted_date = pd.to_datetime(pd.Timestamp.fromordinal(int(predicted_ordinal)))\n",
    "    return predicted_date\n",
    "\n",
    "def main():\n",
    "    print(\"Please enter the following details:\")\n",
    "    planned_end_date = input(\"Planned End Date (YYYY-MM-DD): \")\n",
    "    planned_start_date = input(\"Planned Start Date (YYYY-MM-DD): \")\n",
    "    actual_start_date = input(\"Study Actual Start Date (YYYY-MM-DD): \")\n",
    "    enrolled_subjects = int(input(\"Study Enrolled Subjects: \"))\n",
    "    planned_subjects = int(input(\"Study Planned Subjects: \"))\n",
    "    drop_outs = int(input(\"Study Drop-Outs: \"))\n",
    "    \n",
    "    # Predict and display the results\n",
    "    predicted_end_date_rf = predict_end_date(planned_end_date, planned_start_date, actual_start_date, enrolled_subjects, planned_subjects, drop_outs, rf_reg)\n",
    "    predicted_end_date_xgb = predict_end_date(planned_end_date, planned_start_date, actual_start_date, enrolled_subjects, planned_subjects, drop_outs, xg_reg)\n",
    "    predicted_end_date_ada = predict_end_date(planned_end_date, planned_start_date, actual_start_date, enrolled_subjects, planned_subjects, drop_outs, ada_reg)\n",
    "    \n",
    "    print(f\"\\nPredicted Study Actual End Date (Random Forest): {predicted_end_date_rf.strftime('%Y-%m-%d')}\")\n",
    "    print(f\"Predicted Study Actual End Date (XGBoost): {predicted_end_date_xgb.strftime('%Y-%m-%d')}\")\n",
    "    print(f\"Predicted Study Actual End Date (AdaBoost): {predicted_end_date_ada.strftime('%Y-%m-%d')}\")\n",
    "\n",
    "if __name__ == \"__main__\":\n",
    "    main()\n"
   ]
  },
  {
   "cell_type": "code",
   "execution_count": 18,
   "id": "4c4a6203-e65b-48a8-be93-4332e001d194",
   "metadata": {},
   "outputs": [
    {
     "ename": "NameError",
     "evalue": "name 'mm' is not defined",
     "output_type": "error",
     "traceback": [
      "\u001b[1;31m---------------------------------------------------------------------------\u001b[0m",
      "\u001b[1;31mNameError\u001b[0m                                 Traceback (most recent call last)",
      "Cell \u001b[1;32mIn[18], line 1\u001b[0m\n\u001b[1;32m----> 1\u001b[0m mm\u001b[38;5;241m/\u001b[39mdd\n",
      "\u001b[1;31mNameError\u001b[0m: name 'mm' is not defined"
     ]
    }
   ],
   "source": [
    "month/date"
   ]
  },
  {
   "cell_type": "code",
   "execution_count": null,
   "id": "2b09a01f-4d14-4082-99ed-720214996e9f",
   "metadata": {},
   "outputs": [],
   "source": []
  }
 ],
 "metadata": {
  "kernelspec": {
   "display_name": "Python 3 (ipykernel)",
   "language": "python",
   "name": "python3"
  },
  "language_info": {
   "codemirror_mode": {
    "name": "ipython",
    "version": 3
   },
   "file_extension": ".py",
   "mimetype": "text/x-python",
   "name": "python",
   "nbconvert_exporter": "python",
   "pygments_lexer": "ipython3",
   "version": "3.11.5"
  }
 },
 "nbformat": 4,
 "nbformat_minor": 5
}
